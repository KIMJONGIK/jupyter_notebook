{
 "cells": [
  {
   "cell_type": "markdown",
   "metadata": {},
   "source": [
    "cmd에서 파이썬 켜고 카톡에 있는거 다 설치"
   ]
  },
  {
   "cell_type": "markdown",
   "metadata": {},
   "source": [
    "원하는 주소로 가서 폴더 만들고 메모장 열어서\n",
    "- 내용 - jupyter notebook .\n",
    "- 제목 - notebook.bat 로 만든다\n",
    "- chrom 설정에 가서 버전 확인, 구글에 chrome 드라이버 검색해서 그 버전에 맞는 파일 다운, 원하는 위치에 저장"
   ]
  },
  {
   "cell_type": "markdown",
   "metadata": {},
   "source": [
    "Selector\n",
    "- div#header     : div id가 header인 것을 찾는다.\n",
    "- ul.list        : ul class가 list인 것을 찾는다.\n",
    "- div#header > ul  : div의 자식\n",
    "- div#header li     : div의 자손\n"
   ]
  },
  {
   "cell_type": "markdown",
   "metadata": {},
   "source": [
    "# BeautifulSoup을 이용한 TML 문서의 파싱\n",
    "- BeautifulSoup을 이용하면 텍스트 html을 DOM Tree 형태로 변환해준다"
   ]
  },
  {
   "cell_type": "code",
   "execution_count": 2,
   "metadata": {},
   "outputs": [],
   "source": [
    "from bs4 import BeautifulSoup # 모듈 로드"
   ]
  },
  {
   "cell_type": "code",
   "execution_count": 4,
   "metadata": {},
   "outputs": [
    {
     "name": "stdout",
     "output_type": "stream",
     "text": [
      "<!DOCTYPE html>\n",
      "<html lang=\"en\">\n",
      "<head>\n",
      "    <meta charset=\"UTF-8\">\n",
      "    <meta name=\"viewport\" content=\"width=device-width, initial-scale=1.0\">\n",
      "    <title>Sample HTML Page</title>\n",
      "</head>\n",
      "<body>\n",
      "    <div id=\"header\">\n",
      "        <h1>Sample Homepage</h1>\n",
      "        <ul class=\"nav\">\n",
      "            <li>home</li>\n",
      "            <li>About</li>\n",
      "            <li>Contact</li>\n",
      "        </ul>\n",
      "    </div>\n",
      "    <div id=\"content\">\n",
      "        <h1>Content Title</h1>\n",
      "        <p>Lorem ipsum dolor sit amet, consectetur adipiscing elit. Phasellus interdum.</p>\n",
      "        <ul class=\"list\">\n",
      "            <li>Comment 1</li>\n",
      "            <li>Comment 2</li>\n",
      "            <li>Comment 3</li>\n",
      "            <li>Comment 4</li>\n",
      "        </ul>\n",
      "    </div>\n",
      "    <div id=\"footer\">\n",
      "        &copy; Bit Academy\n",
      "    </div>\n",
      "</body>\n",
      "</html>\n"
     ]
    }
   ],
   "source": [
    "# 샘플 html 로드\n",
    "with open(\"./data/sample.html\") as f:\n",
    "    html_str = f.read()\n",
    "    \n",
    "print(html_str)"
   ]
  },
  {
   "cell_type": "code",
   "execution_count": 7,
   "metadata": {},
   "outputs": [
    {
     "name": "stdout",
     "output_type": "stream",
     "text": [
      "<class 'bs4.BeautifulSoup'>\n",
      "타이틀 태그: <title>Sample HTML Page</title> <class 'bs4.element.Tag'>\n",
      "태그의 이름: title\n",
      "태그의 내용: Sample HTML Page\n"
     ]
    }
   ],
   "source": [
    "soup = BeautifulSoup(html_str) # DOM Tree 형태로 변환\n",
    "print(type(soup))\n",
    "# 타이틀 태그의 확인\n",
    "title_tag = soup.title\n",
    "print(\"타이틀 태그:\", title_tag, type(title_tag))\n",
    "print(\"태그의 이름:\", title_tag.name)\n",
    "print(\"태그의 내용:\", title_tag.text)"
   ]
  },
  {
   "cell_type": "code",
   "execution_count": 14,
   "metadata": {},
   "outputs": [
    {
     "name": "stdout",
     "output_type": "stream",
     "text": [
      "html tag: html\n",
      "html의 children: <list_iterator object at 0x000001E29A525470>\n",
      "child: head\n",
      "child: body\n",
      "body의 자손 노드: div\n",
      "body의 자손 노드: h1\n",
      "body의 자손 노드: ul\n",
      "body의 자손 노드: li\n",
      "body의 자손 노드: li\n",
      "body의 자손 노드: li\n",
      "body의 자손 노드: div\n",
      "body의 자손 노드: h1\n",
      "body의 자손 노드: p\n",
      "body의 자손 노드: ul\n",
      "body의 자손 노드: li\n",
      "body의 자손 노드: li\n",
      "body의 자손 노드: li\n",
      "body의 자손 노드: li\n",
      "body의 자손 노드: div\n",
      "True\n"
     ]
    }
   ],
   "source": [
    "# html의 최상위 노드는 html\n",
    "html_tag = soup.html\n",
    "print(\"html tag:\", html_tag.name)\n",
    "# html 노드의 자식 : children\n",
    "children = html_tag.children\n",
    "print(\"html의 children:\", children)\n",
    "\n",
    "from bs4.element import Tag\n",
    "\n",
    "# 자식 노드의 순회\n",
    "for child in children:\n",
    "    # NavigableString은 Tree 구조를 구성하기 위한 특수 구분기호\n",
    "    # Tag : 실제 우리가 파싱하기 위한 내용\n",
    "    if isinstance(child, Tag): # Tag 필터링\n",
    "        print(\"child:\", child.name)\n",
    "        \n",
    "# body 태그는 여러 개의 자손들을 가지고 있을 것\n",
    "for node in soup.body.descendants:\n",
    "    if isinstance(node, Tag):\n",
    "        print(\"body의 자손 노드:\", node.name)\n",
    "\n",
    "# 부모 노드의 확인\n",
    "print(soup.body.parent == soup.html)"
   ]
  },
  {
   "cell_type": "code",
   "execution_count": 18,
   "metadata": {},
   "outputs": [
    {
     "name": "stdout",
     "output_type": "stream",
     "text": [
      "html 내에 3개의 div가 있습니다.\n"
     ]
    }
   ],
   "source": [
    "# 검색 : find\n",
    "# 문서 내 div 태그를 찾아봅시다\n",
    "# divs = soup.body.find(\"div\")  # find는 1개 검색\n",
    "divs = soup.body.findAll(\"div\") # findAll은 매칭되는 모든 요소 검색\n",
    "# print(divs)\n",
    "print(\"html 내에 {}개의 div가 있습니다.\".format(len(divs)))"
   ]
  },
  {
   "cell_type": "code",
   "execution_count": 24,
   "metadata": {},
   "outputs": [
    {
     "name": "stdout",
     "output_type": "stream",
     "text": [
      "list item: Comment 1\n",
      "list item: Comment 2\n",
      "list item: Comment 3\n",
      "list item: Comment 4\n"
     ]
    }
   ],
   "source": [
    "# 속성을 가진 요소의 검색\n",
    "# class=list인 ul을 검색, 내부의 자식노드 내용을 출력\n",
    "list_ul = soup.body.find(\"ul\", { \"class\" : \"list\" }) # 속성 class=list인 ul\n",
    "# print(list_ul)\n",
    "for li in list_ul.children:\n",
    "    if isinstance(li, Tag):\n",
    "        print(\"list item:\", li.text)"
   ]
  },
  {
   "cell_type": "markdown",
   "metadata": {},
   "source": [
    "- CSS Selector를 이용하면 좀 더 편리하고 유연하게 검색할 수 있다.\n",
    "- class=list인 ul 태그의 모든 자식들을 검색\n",
    "- id 셀렉터 : #i\n",
    "- class 셀렉터 : .class\n",
    "- 자식 셀렉터 : >\n",
    "- 자손 셀렉터 : (공백)"
   ]
  },
  {
   "cell_type": "code",
   "execution_count": 25,
   "metadata": {},
   "outputs": [
    {
     "name": "stdout",
     "output_type": "stream",
     "text": [
      "[<li>Comment 1</li>, <li>Comment 2</li>, <li>Comment 3</li>, <li>Comment 4</li>]\n"
     ]
    }
   ],
   "source": [
    "list_ul_children = soup.body.select(\"ul.list > li\")\n",
    "print(list_ul_children)"
   ]
  }
 ],
 "metadata": {
  "kernelspec": {
   "display_name": "Python 3",
   "language": "python",
   "name": "python3"
  },
  "language_info": {
   "codemirror_mode": {
    "name": "ipython",
    "version": 3
   },
   "file_extension": ".py",
   "mimetype": "text/x-python",
   "name": "python",
   "nbconvert_exporter": "python",
   "pygments_lexer": "ipython3",
   "version": "3.7.3"
  }
 },
 "nbformat": 4,
 "nbformat_minor": 4
}
