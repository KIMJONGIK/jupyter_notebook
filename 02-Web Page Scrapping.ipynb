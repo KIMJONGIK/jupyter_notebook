{
 "cells": [
  {
   "cell_type": "code",
   "execution_count": 2,
   "metadata": {},
   "outputs": [
    {
     "name": "stdout",
     "output_type": "stream",
     "text": [
      "응답 코드: 200\n",
      "SUCCESS\n"
     ]
    }
   ],
   "source": [
    "# urllib 임포트\n",
    "from urllib.request import urlopen\n",
    "from bs4 import BeautifulSoup\n",
    "\n",
    "# https://news.daum.net/\n",
    "req = urlopen(\"https://news.daum.net/\")\n",
    "print(\"응답 코드:\", req.getcode())\n",
    "\n",
    "if req.getcode() == 200:\n",
    "    # html 받아오기\n",
    "    html = req.read()\n",
    "    html = html.decode(\"utf-8\")\n",
    "    print(\"SUCCESS\")\n",
    "else:\n",
    "    print(\"HTTP-ERROR\")"
   ]
  },
  {
   "cell_type": "code",
   "execution_count": 3,
   "metadata": {},
   "outputs": [
    {
     "name": "stdout",
     "output_type": "stream",
     "text": [
      "문서 제목: 홈 | 다음뉴스\n"
     ]
    }
   ],
   "source": [
    "# text -> html dom으로 변경\n",
    "soup = BeautifulSoup(html, \"html.parser\")\n",
    "# print(soup.prettify())\n",
    "# 문서 정보의 확인\n",
    "print(\"문서 제목:\", soup.title.text)"
   ]
  },
  {
   "cell_type": "code",
   "execution_count": 17,
   "metadata": {},
   "outputs": [
    {
     "name": "stdout",
     "output_type": "stream",
     "text": [
      "다음 뉴스 주요 기사:\n",
      "키르기스스탄서도 부정선거 의심 정황.. 反정부 시위 확산 - https://news.v.daum.net/v/20201006130026604\n",
      "스가 \"학문 자유 침해와 무관\" 주장에도 항의 성명 잇따라 - https://news.v.daum.net/v/20201006130024603\n",
      "네이버, 공정위 제재 불복..\"악의적 지적·사업활동 침해 유감\" - https://news.v.daum.net/v/20201006125756548\n",
      "노동법, 얼마나 勞에 기울어져 있길래..수년 파업해도 징계없는 '방탄노동법' - https://news.v.daum.net/v/20201006125750544\n",
      "강남 미성년 '건물주' 947명..통장에 임대료 2600만씩 '척척' - https://news.v.daum.net/v/20201006125720534\n",
      "세월호 유족들 \"진상규명 위해 법안 처리 청원 동참해달라\" - https://news.v.daum.net/v/20201006125603498\n",
      "\"北 열병식서 미사일 아닌 이동식 발사차량 주인공 될 수도\" - https://news.v.daum.net/v/20201006124829356\n",
      "민주노총 \"괴롭힘당하다 숨진 세종 보육교사 사건 참담\" - https://news.v.daum.net/v/20201006124707309\n",
      "짐 로저스 \"日 쇠퇴는 필연적..100년 뒤 없어질 수도\" - https://news.v.daum.net/v/20201006124254225\n",
      "노벨 생리의학상까지..완치 길 열린 'C형간염' 궁금증 5가지 - https://news.v.daum.net/v/20201006123734136\n",
      "이철 \"나를 협박한 기자와 연결된 검사는 한동훈\" - https://news.v.daum.net/v/20201006123706126\n",
      "코로나에도 정기간행물 매체 등록 700곳 늘어 - https://news.v.daum.net/v/20201006123328061\n",
      "'코로나19' 바이러스 - https://gallery.v.daum.net/p/viewer/5014013/\n",
      "미국은 지금 - https://gallery.v.daum.net/p/viewer/1476/\n",
      "포토친구 - https://gallery.v.daum.net/p/viewer/379/\n",
      "전국 화재사고 - https://gallery.v.daum.net/p/viewer/1518/\n",
      "1 위\n",
      "                            나발니 독살 시도, 보좌관 기지에 꼬리 잡혔다 - https://news.v.daum.net/v/20201006105040603\n",
      "2 위\n",
      "                            반포3주구, 재초환 4억에 공사비 증액까지 '첩첩산중' - https://news.v.daum.net/v/20201006080304683\n",
      "3 위\n",
      "                            증평·진천·괴산·음성 중부4군, 인구순위 자존심 대결 - https://news.v.daum.net/v/20201006105137663\n",
      "4 위\n",
      "                            짐 로저스 \"日 쇠퇴는 필연적..100년 뒤 없어질 수도\" - https://news.v.daum.net/v/20201006124254225\n",
      "5 위\n",
      "                            '교사 감축' 교·사대 개편 집중숙의 본격화..교대련·교원단체 \"졸속 추진\" - https://news.v.daum.net/v/20201006110144178\n",
      "1 위\n",
      "                            [단독] \"대통령님, 아빠 죽임당할때 뭘 했나요\" 高2 아들의 편지 - https://news.v.daum.net/v/20201005214415309\n",
      "2 위\n",
      "                            秋아들 폭로 대위 진술 뒤집자..수사 조언 지인 휴대폰 턴 檢 - https://news.v.daum.net/v/20201006114509617\n",
      "3 위\n",
      "                            中 \"미국 레드라인 넘고 있다..전쟁도 불사할 것\" - https://news.v.daum.net/v/20201006103144567\n",
      "4 위\n",
      "                            국민의당, 정책과제 발표..\"공무원연금 폐지·청년 기본소득\" - https://news.v.daum.net/v/20201006111509980\n",
      "5 위\n",
      "                            박원순 전 비서 \"존경받아도 힘가지면 폭력 가해자 될수 있어\" - https://news.v.daum.net/v/20201006112606561\n",
      "\"코로나 두려워말라\"며 마스크 벗은 트럼프..퇴원 일성부터 논란 - https://v.daum.net/v/20201006093211614\n",
      "의사국시 '대리취소'에 국시원, 2천800명에 일일이 전화·환불 - https://v.daum.net/v/20201006100348173\n",
      "김동성 '배드파더스' 재등재..전 부인에 고소 예고까지 - https://v.daum.net/v/20201006110713554\n",
      "'혹독한 갱년기' 겪었다면.. 뇌졸중·심장병 주의 - https://v.daum.net/v/20201006112612568\n",
      "박원순 전 비서 \"존경받아도 힘가지면 폭력 가해자 될수 있어\" - https://v.daum.net/v/20201006112606561\n",
      "中 \"미국 레드라인 넘고 있다..전쟁도 불사할 것\" - https://v.daum.net/v/20201006103144567\n",
      "바다에 들어간지 9분 만에..부산 다대포 중학생들 사고 재구성 - https://v.daum.net/v/20201006110400334\n",
      "秋아들 폭로 대위 진술 뒤집자..수사 조언 지인 휴대폰 턴 檢 - https://v.daum.net/v/20201006114509617\n"
     ]
    }
   ],
   "source": [
    "# 주요 기사 div를 검색\n",
    "# select or find\n",
    "articles = soup.select(\"#mArticle\")[0] #id= mArticle\n",
    "# print(type(articles))\n",
    "# print(articles.prettify())\n",
    "# div#mArticle 자손인 a.link_txt를 검색\n",
    "links = articles.select(\"a.link_txt\") # class=link_txt인 a 태그\n",
    "# print(links[0])\n",
    "\n",
    "# 기사 목록을 { \"link\": ...... \"title\": ......}의 리스트\n",
    "news_list = []\n",
    "for link in links:\n",
    "#     print(link)\n",
    "    news = {\n",
    "        \"link\": link['href'], # 속성에 접근\n",
    "        \"title\": link.text.strip()\n",
    "    }\n",
    "    news_list.append(news)\n",
    "    \n",
    "# print(news_list)\n",
    "print(\"다음 뉴스 주요 기사:\")\n",
    "for news in news_list:\n",
    "    print(\"{} - {}\".format(news.get('title'), news.get('link')))"
   ]
  },
  {
   "cell_type": "code",
   "execution_count": 18,
   "metadata": {},
   "outputs": [],
   "source": [
    "# 연습\n",
    "# 다음 뉴스 상단 div# cSub인 뉴스 수집"
   ]
  },
  {
   "cell_type": "code",
   "execution_count": 22,
   "metadata": {},
   "outputs": [],
   "source": [
    "# https://movie.naver.com/movie/running/current.nhn\n",
    "# 영화 순위를 수집\n",
    "req = urlopen(\"https://movie.naver.com/movie/running/current.nhn\")\n",
    "html_str = req.read().decode('utf-8')\n",
    "# print(html_str[:256]) # html text"
   ]
  },
  {
   "cell_type": "code",
   "execution_count": 24,
   "metadata": {},
   "outputs": [],
   "source": [
    "# DOM 변환\n",
    "soup = BeautifulSoup(html_str, \"html.parser\")\n",
    "# print(soup.body)"
   ]
  },
  {
   "cell_type": "code",
   "execution_count": 32,
   "metadata": {},
   "outputs": [
    {
     "name": "stdout",
     "output_type": "stream",
     "text": [
      "네이버 영화 순위\n",
      "1위 - 담보 : https://movie.naver.com/movie/bi/mi/basic.nhn?code=183866\n",
      "2위 - 국제수사 : https://movie.naver.com/movie/bi/mi/basic.nhn?code=175393\n",
      "3위 - 그린랜드 : https://movie.naver.com/movie/bi/mi/basic.nhn?code=195983\n",
      "4위 - 테넷 : https://movie.naver.com/movie/bi/mi/basic.nhn?code=190010\n",
      "5위 - 극장판 포켓몬스터 뮤츠의 역습 EVOLUTION : https://movie.naver.com/movie/bi/mi/basic.nhn?code=187305\n",
      "6위 - 극장판 미니특공대: 햄버거괴물의 습격 : https://movie.naver.com/movie/bi/mi/basic.nhn?code=196839\n",
      "7위 - 죽지않는 인간들의 밤 : https://movie.naver.com/movie/bi/mi/basic.nhn?code=183854\n",
      "8위 - 검객 : https://movie.naver.com/movie/bi/mi/basic.nhn?code=165287\n",
      "9위 - 브레이크 더 사일런스: 더 무비 : https://movie.naver.com/movie/bi/mi/basic.nhn?code=195975\n",
      "10위 - 극장판 엉덩이 탐정: 텐텐마을의 수수께끼 : https://movie.naver.com/movie/bi/mi/basic.nhn?code=196859\n",
      "11위 - 뮬란 : https://movie.naver.com/movie/bi/mi/basic.nhn?code=167491\n",
      "12위 - 해수의 아이 : https://movie.naver.com/movie/bi/mi/basic.nhn?code=186110\n",
      "13위 - 아웃포스트 : https://movie.naver.com/movie/bi/mi/basic.nhn?code=195450\n",
      "14위 - 디바 : https://movie.naver.com/movie/bi/mi/basic.nhn?code=177039\n",
      "15위 - 마르지엘라 : https://movie.naver.com/movie/bi/mi/basic.nhn?code=192883\n",
      "16위 - 기기괴괴 성형수 : https://movie.naver.com/movie/bi/mi/basic.nhn?code=194644\n",
      "17위 - 강철비2: 정상회담 : https://movie.naver.com/movie/bi/mi/basic.nhn?code=188909\n",
      "18위 - 남매의 여름밤 : https://movie.naver.com/movie/bi/mi/basic.nhn?code=189623\n",
      "19위 - 오! 문희 : https://movie.naver.com/movie/bi/mi/basic.nhn?code=179859\n",
      "20위 - 프란시스 하 : https://movie.naver.com/movie/bi/mi/basic.nhn?code=98738\n",
      "21위 - 교실 안의 야크 : https://movie.naver.com/movie/bi/mi/basic.nhn?code=189393\n",
      "22위 - 도망친 여자 : https://movie.naver.com/movie/bi/mi/basic.nhn?code=192191\n",
      "23위 - 우리가 이별 뒤에 알게 되는 것들 : https://movie.naver.com/movie/bi/mi/basic.nhn?code=188465\n",
      "24위 - 카일라스 가는 길 : https://movie.naver.com/movie/bi/mi/basic.nhn?code=178687\n",
      "25위 - 보테로 : https://movie.naver.com/movie/bi/mi/basic.nhn?code=180264\n",
      "26위 - 다시 만난 날들 : https://movie.naver.com/movie/bi/mi/basic.nhn?code=195690\n",
      "27위 - 테스와 보낸 여름 : https://movie.naver.com/movie/bi/mi/basic.nhn?code=183278\n",
      "28위 - 공포분자 : https://movie.naver.com/movie/bi/mi/basic.nhn?code=31130\n",
      "29위 - 소년시절의 너 : https://movie.naver.com/movie/bi/mi/basic.nhn?code=192066\n",
      "30위 - 다만 악에서 구하소서 : https://movie.naver.com/movie/bi/mi/basic.nhn?code=189069\n",
      "31위 - 드라이브 : https://movie.naver.com/movie/bi/mi/basic.nhn?code=80466\n",
      "32위 - 극장판 짱구는 못말려: 신혼여행 허리케인~ 사라진 아빠! : https://movie.naver.com/movie/bi/mi/basic.nhn?code=183772\n",
      "33위 - 후쿠오카 : https://movie.naver.com/movie/bi/mi/basic.nhn?code=182353\n",
      "34위 - 69세 : https://movie.naver.com/movie/bi/mi/basic.nhn?code=189373\n",
      "35위 - 나를 구하지 마세요 : https://movie.naver.com/movie/bi/mi/basic.nhn?code=193330\n",
      "36위 - 마티아스와 막심 : https://movie.naver.com/movie/bi/mi/basic.nhn?code=185273\n",
      "37위 - 낙엽귀근 : https://movie.naver.com/movie/bi/mi/basic.nhn?code=66320\n",
      "38위 - 워터 릴리스 : https://movie.naver.com/movie/bi/mi/basic.nhn?code=67457\n",
      "39위 - 극장판 시로바코 : https://movie.naver.com/movie/bi/mi/basic.nhn?code=192612\n",
      "40위 - 동아시아반일무장전선 : https://movie.naver.com/movie/bi/mi/basic.nhn?code=185139\n",
      "41위 - 하워즈 엔드 : https://movie.naver.com/movie/bi/mi/basic.nhn?code=13636\n",
      "42위 - 보리밭을 흔드는 바람 : https://movie.naver.com/movie/bi/mi/basic.nhn?code=49380\n",
      "43위 - 타샤 튜더 : https://movie.naver.com/movie/bi/mi/basic.nhn?code=177335\n",
      "44위 - 너의 이름은. : https://movie.naver.com/movie/bi/mi/basic.nhn?code=150198\n",
      "45위 - 마음 울적한 날엔 : https://movie.naver.com/movie/bi/mi/basic.nhn?code=195652\n",
      "46위 - 천국보다 낯선 : https://movie.naver.com/movie/bi/mi/basic.nhn?code=10624\n",
      "47위 - 고령가 소년 살인사건 : https://movie.naver.com/movie/bi/mi/basic.nhn?code=10922\n",
      "48위 - 타오르는 여인의 초상 : https://movie.naver.com/movie/bi/mi/basic.nhn?code=185282\n",
      "49위 - 타이페이 스토리 : https://movie.naver.com/movie/bi/mi/basic.nhn?code=10676\n",
      "50위 - 비독: 파리의 황제 : https://movie.naver.com/movie/bi/mi/basic.nhn?code=182793\n",
      "51위 - 루스 베이더 긴즈버그 : 나는 반대한다 : https://movie.naver.com/movie/bi/mi/basic.nhn?code=172605\n",
      "52위 - 날씨의 아이 : https://movie.naver.com/movie/bi/mi/basic.nhn?code=181114\n",
      "53위 - 반교: 디텐션 : https://movie.naver.com/movie/bi/mi/basic.nhn?code=189618\n",
      "54위 - 이십일세기 소녀 : https://movie.naver.com/movie/bi/mi/basic.nhn?code=186487\n",
      "55위 - 블레이드 러너 2049 : https://movie.naver.com/movie/bi/mi/basic.nhn?code=88227\n",
      "56위 - 하얀 리본 : https://movie.naver.com/movie/bi/mi/basic.nhn?code=52983\n",
      "57위 - 경계선 : https://movie.naver.com/movie/bi/mi/basic.nhn?code=175045\n",
      "58위 - 스파이더맨: 뉴 유니버스 : https://movie.naver.com/movie/bi/mi/basic.nhn?code=171725\n",
      "59위 - 구르는 수레바퀴 : https://movie.naver.com/movie/bi/mi/basic.nhn?code=189440\n",
      "60위 - 소년 아메드 : https://movie.naver.com/movie/bi/mi/basic.nhn?code=185269\n",
      "61위 - 백년의 기억 : https://movie.naver.com/movie/bi/mi/basic.nhn?code=188162\n",
      "62위 - 에이바 : https://movie.naver.com/movie/bi/mi/basic.nhn?code=195377\n",
      "63위 - 치어리딩 클럽 : https://movie.naver.com/movie/bi/mi/basic.nhn?code=183116\n",
      "64위 - 퍼스널 쇼퍼 : https://movie.naver.com/movie/bi/mi/basic.nhn?code=144221\n",
      "65위 - 500일의 썸머 : https://movie.naver.com/movie/bi/mi/basic.nhn?code=53152\n",
      "66위 - 걸작 : https://movie.naver.com/movie/bi/mi/basic.nhn?code=182642\n",
      "67위 - 디트로이트 : https://movie.naver.com/movie/bi/mi/basic.nhn?code=152689\n",
      "68위 - 라붐 : https://movie.naver.com/movie/bi/mi/basic.nhn?code=10117\n",
      "69위 - 레이디 버드 : https://movie.naver.com/movie/bi/mi/basic.nhn?code=158611\n",
      "70위 - 브리짓 존스의 일기 : https://movie.naver.com/movie/bi/mi/basic.nhn?code=31565\n",
      "71위 - 사랑과 영혼 : https://movie.naver.com/movie/bi/mi/basic.nhn?code=10173\n",
      "72위 - 사랑하는 시바여 돌아오라 : https://movie.naver.com/movie/bi/mi/basic.nhn?code=30335\n",
      "73위 - 샤인 : https://movie.naver.com/movie/bi/mi/basic.nhn?code=17970\n",
      "74위 - 셰이프 오브 뮤직: 알렉상드르 데스플라 : https://movie.naver.com/movie/bi/mi/basic.nhn?code=177608\n",
      "75위 - 스프링 브레이커스 : https://movie.naver.com/movie/bi/mi/basic.nhn?code=92005\n",
      "76위 - 십계 : https://movie.naver.com/movie/bi/mi/basic.nhn?code=10064\n",
      "77위 - 아이 캔 온리 이매진 : https://movie.naver.com/movie/bi/mi/basic.nhn?code=169647\n",
      "78위 - 알제리 전투 : https://movie.naver.com/movie/bi/mi/basic.nhn?code=10378\n",
      "79위 - 제로 다크 서티 : https://movie.naver.com/movie/bi/mi/basic.nhn?code=85141\n",
      "80위 - 제리 맥과이어 : https://movie.naver.com/movie/bi/mi/basic.nhn?code=17942\n",
      "81위 - 톰보이 : https://movie.naver.com/movie/bi/mi/basic.nhn?code=85825\n",
      "82위 - 트립 투 이탈리아 : https://movie.naver.com/movie/bi/mi/basic.nhn?code=119272\n",
      "83위 - 피아니스트 : https://movie.naver.com/movie/bi/mi/basic.nhn?code=35187\n",
      "84위 - 거룩한 분노 : https://movie.naver.com/movie/bi/mi/basic.nhn?code=162098\n",
      "85위 - 다운폴 : https://movie.naver.com/movie/bi/mi/basic.nhn?code=39462\n",
      "86위 - 닥터 슬립 : https://movie.naver.com/movie/bi/mi/basic.nhn?code=185912\n",
      "87위 - 더 파티 : https://movie.naver.com/movie/bi/mi/basic.nhn?code=159110\n",
      "88위 - 미스 사이공: 25주년 특별 공연 : https://movie.naver.com/movie/bi/mi/basic.nhn?code=155123\n",
      "89위 - 베를린 천사의 시 : https://movie.naver.com/movie/bi/mi/basic.nhn?code=10568\n",
      "90위 - 분노의 질주: 홉스&쇼 : https://movie.naver.com/movie/bi/mi/basic.nhn?code=182355\n",
      "91위 - 비투스 : https://movie.naver.com/movie/bi/mi/basic.nhn?code=62390\n",
      "92위 - 영원과 하루 : https://movie.naver.com/movie/bi/mi/basic.nhn?code=21133\n",
      "93위 - 위대한 쇼맨 : https://movie.naver.com/movie/bi/mi/basic.nhn?code=106360\n",
      "94위 - 쥬만지: 넥스트 레벨 : https://movie.naver.com/movie/bi/mi/basic.nhn?code=187349\n",
      "95위 - 포드 V 페라리 : https://movie.naver.com/movie/bi/mi/basic.nhn?code=181710\n"
     ]
    }
   ],
   "source": [
    "# ul.lst_detail_t1\n",
    "current_movies = soup.select(\"ul.lst_detail_t1 > li\")\n",
    "# class = lst_detail_t1인 ul의 자식은 li 태그들\n",
    "# print(current_movies)\n",
    "\n",
    "# 영화 세부 정보 검색\n",
    "movie_list = []\n",
    "for movie in current_movies: # movie는 li 태그\n",
    "    titles = movie.select(\"dl.lst_dsc > .tit > a\")[0]\n",
    "    \n",
    "    info = {\"title\": titles.text.strip(), \"link\":titles['href']}\n",
    "    movie_list.append(info)\n",
    "    \n",
    "# print(movie_list)\n",
    "print(\"네이버 영화 순위\")\n",
    "for rank, info in enumerate(movie_list):\n",
    "    print(\"{}위 - {} : https://movie.naver.com{}\".format(rank+1, info['title'], info['link']))"
   ]
  },
  {
   "cell_type": "code",
   "execution_count": 39,
   "metadata": {},
   "outputs": [
    {
     "name": "stdout",
     "output_type": "stream",
     "text": [
      "...............................................................................................Download Complete!\n"
     ]
    }
   ],
   "source": [
    "# 이미지 다운로드\n",
    "# ul.lst_detail_t1 > li -> img\n",
    "# img 태그의 속성 src, alt(대체 텍스트)\n",
    "# 저장 디렉터리 확인\n",
    "import os\n",
    "import re # 정규 표현식\n",
    "from urllib.request import urlretrieve\n",
    "\n",
    "if not os.path.exists(\"d:/data-science/crawl\"): # 디렉터리 없으면\n",
    "    os.makedirs(\"d:/data-science/crawl\") # 생성\n",
    "\n",
    "for movie in current_movies:\n",
    "    img_tag = movie.select(\"img\")[0]\n",
    "#     print(\"포스터:\", img_tag)\n",
    "#     print(\"src:\", img_tag['src'])\n",
    "#     print(\"alt:\", img_tag['alt'])\n",
    "    # 파일명으로 사용할 수 없는 문자를 제거\n",
    "    title = img_tag['alt']\n",
    "    title = re.sub(r\"[\\/:*?<>|.]\", \"- \", title.strip())\n",
    "#     print(\"정제된 제목:\", title)\n",
    "    src = img_tag['src'] # 이미지 주소\n",
    "    target = \"d:/data-science/crawl/{}.jpg\".format(title)\n",
    "    \n",
    "    # 이미지 다운로드 : urlretrieve\n",
    "    urlretrieve(src, target)\n",
    "    print(\".\", end=\"\")\n",
    "else:\n",
    "    print(\"Download Complete!\")"
   ]
  },
  {
   "cell_type": "code",
   "execution_count": null,
   "metadata": {},
   "outputs": [],
   "source": [
    "# 연습문제\n",
    "# https://movie.naver.com/movie/running/premovie.nhn\n",
    "# 개봉 예정 영화 정보를 수집해 봅시다"
   ]
  }
 ],
 "metadata": {
  "kernelspec": {
   "display_name": "Python 3",
   "language": "python",
   "name": "python3"
  },
  "language_info": {
   "codemirror_mode": {
    "name": "ipython",
    "version": 3
   },
   "file_extension": ".py",
   "mimetype": "text/x-python",
   "name": "python",
   "nbconvert_exporter": "python",
   "pygments_lexer": "ipython3",
   "version": "3.7.3"
  }
 },
 "nbformat": 4,
 "nbformat_minor": 4
}
