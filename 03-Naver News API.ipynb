{
 "cells": [
  {
   "cell_type": "code",
   "execution_count": 1,
   "metadata": {},
   "outputs": [
    {
     "name": "stdout",
     "output_type": "stream",
     "text": [
      "API 요청 URL: https://openapi.naver.com/v1/search/news.json?query=%EC%BD%94%EB%A1%9C%EB%82%98\n",
      "Success\n"
     ]
    }
   ],
   "source": [
    "from urllib.request import Request\n",
    "from urllib.parse import quote\n",
    "import urllib\n",
    "\n",
    "# 요청을 위한 id와 secret\n",
    "client_id = ''\n",
    "client_secret = ''\n",
    "\n",
    "# 검색어 인코딩\n",
    "enc_text = quote(\"코로나\")\n",
    "url = \"https://openapi.naver.com/v1/search/news.json?query={}\".format(enc_text)\n",
    "print(\"API 요청 URL:\", url)\n",
    "\n",
    "# 요청 생성\n",
    "req = Request(url)\n",
    "# API 접근을 위한 인증 정보를 header에 수록\n",
    "req.add_header(\"X-Naver-Client-Id\", client_id)\n",
    "req.add_header(\"X-Naver-Client-Secret\", client_secret)\n",
    "\n",
    "# 응답\n",
    "resp = urllib.request.urlopen(req)\n",
    "\n",
    "if resp.code == 200: # 성공\n",
    "    resp_body = resp.read().decode(\"utf-8\")\n",
    "    print(\"Success\")\n",
    "else: # 실패\n",
    "    print(\"HTTP_Error: $d\" % respcode)"
   ]
  },
  {
   "cell_type": "code",
   "execution_count": 2,
   "metadata": {},
   "outputs": [
    {
     "name": "stdout",
     "output_type": "stream",
     "text": [
      "[네이버 뉴스 검색 결과]\n",
      "풍무동에 사랑의 성품 기탁 이어져 - http://www.kmaeil.com/news/articleView.html?idxno=243960\n",
      "추석 귀성·성묘 자제 '무색'…與, 봉하 참배엔 \"깨시민·공적 활동\" - https://www.hankyung.com/politics/article/2020100694747\n",
      "[마켓인사이트]라살, 6000억원 규모 유럽부동산대출펀드 1차 펀딩 완료 - https://www.hankyung.com/finance/article/202010068293u\n",
      "코로나19도 안전하게 ! 2020 온라인 김포시민대학 성공적 마무리 - http://www.kmaeil.com/news/articleView.html?idxno=243961\n",
      "부평구, 어린이 대상 온라인 동물보호 교육 - http://www.ifm.kr/news/289980\n",
      "포항시, 코로나19 확산 방지 위해 기업체 대상 '긴급대책회의' 개최 - http://www.nspna.com/news/?mode=view&newsid=457070\n",
      "MB 때 \"위헌\" 결정난 '차벽', 경찰이 '적법' 주장하는 이유는 - http://news.mt.co.kr/mtview.php?no=2020100613382626903\n",
      "대선 전 백신 내고픈 백악관, FDA 새 가이드라인 거부 - http://news.mt.co.kr/mtview.php?no=2020100613372416228\n",
      "정부, '필수노동자' 지원 본격 착수... 범정부 TF 출범 - http://www.hg-times.com/news/articleView.html?idxno=221221\n",
      "GC녹십자, 창립 53주년 기념식 개최 - http://www.newsworks.co.kr/news/articleView.html?idxno=492841\n"
     ]
    }
   ],
   "source": [
    "# 응답의 확인\n",
    "# print(resp_body)\n",
    "# json text -> json object로 변환\n",
    "import json\n",
    "from html import unescape # html 특수 문자 -> 원래 문자로\n",
    "\n",
    "json_obj = json.loads(resp_body)\n",
    "# print(\"JSON:\", json_obj, type(json_obj))\n",
    "json_items = json_obj['items']\n",
    "# print(json_items)\n",
    "\n",
    "# title과 description  내의 태그 제거\n",
    "import re\n",
    "def remove_tag(html):\n",
    "    \"태그 제거용 함수\"\n",
    "    \n",
    "    tag_pattern = re.compile(r\"<[^>]+>\")\n",
    "    return tag_pattern.sub('', unescape(html))\n",
    "\n",
    "news_list = []\n",
    "for item in json_items:\n",
    "    news = {\n",
    "        \"title\": remove_tag(item['title']),\n",
    "        \"link\": remove_tag(item['originallink']),\n",
    "        \"description\": remove_tag(item['description'])\n",
    "    }\n",
    "    news_list.append(news)\n",
    "\n",
    "print(\"[네이버 뉴스 검색 결과]\")\n",
    "for news in news_list:\n",
    "    print(\"{} - {}\".format(news['title'], news['link']))"
   ]
  },
  {
   "cell_type": "code",
   "execution_count": null,
   "metadata": {},
   "outputs": [],
   "source": []
  }
 ],
 "metadata": {
  "kernelspec": {
   "display_name": "Python 3",
   "language": "python",
   "name": "python3"
  },
  "language_info": {
   "codemirror_mode": {
    "name": "ipython",
    "version": 3
   },
   "file_extension": ".py",
   "mimetype": "text/x-python",
   "name": "python",
   "nbconvert_exporter": "python",
   "pygments_lexer": "ipython3",
   "version": "3.7.3"
  }
 },
 "nbformat": 4,
 "nbformat_minor": 4
}
