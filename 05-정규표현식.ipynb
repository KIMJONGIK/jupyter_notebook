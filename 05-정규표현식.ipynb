{
 "cells": [
  {
   "cell_type": "markdown",
   "metadata": {},
   "source": [
    "# 정규표현식\n",
    "\n",
    "- 패턴 컴파일\n",
    "- 패턴 객체가 가진 메서드로 매칭, 치환 작업 수행\n",
    "- 패턴 문자열은 r 접두어를 붙인다(raw string)\n",
    "\n",
    "# 중요 패턴 메타 문자\n",
    "\n",
    "- \\d : 숫자 [0-9]\n",
    "- \\D : 숫자 아님 [^0-9]\n",
    "- \\s : 화이트스페이스 [ \\t \\n \\r \\f \\v ]\n",
    "- \\S : 화이트스페이스 아님 [^\\t \\n \\r \\f \\v ]\n",
    "- \\w : 문자 + 숫자 [A-Za-z0-9]\n",
    "- \\W : 문자 + 숫자 아닌 것 [^A-Za-z0-9]\n",
    "\n",
    "- [] : 문자 1 개의 패턴 (or)\n",
    "- {시작, 끝} : 길이 제한\n",
    "- ' + ' : 1개 이상\n",
    "- ' * ' : 0개 이상\n"
   ]
  },
  {
   "cell_type": "code",
   "execution_count": 14,
   "metadata": {},
   "outputs": [
    {
     "name": "stdout",
     "output_type": "stream",
     "text": [
      "None\n",
      "<re.Match object; span=(0, 4), match='Life'>\n",
      "MATCH: [a-z]+ ? None\n",
      "MATCH: [A-Za-z]+ ? <re.Match object; span=(0, 1), match='L'>\n",
      "Life\n"
     ]
    }
   ],
   "source": [
    "# 매칭 작업(match) : 처음부터 패턴이 일치하는지 확인\n",
    "source = \"Life is too short, you need Python\"\n",
    "\n",
    "# 방법 1. 컴파일 후 매칭\n",
    "import re\n",
    "p = re.compile(r\"P[a-z]+\") # P로 시작하고 소문자가 1개 이상 있는가?\n",
    "print(p.match(source)) # 매칭되지 않음 -> None\n",
    "\n",
    "p= re.compile(r\"L[a-z]+\") # L로 시작하고 소문자가 1개 이상 있는가?\n",
    "print(p.match(source))\n",
    "\n",
    "# 방법 2. 축약형\n",
    "print(\"MATCH: [a-z]+ ?\", re.match(r\"[a-z]\", source))\n",
    "print(\"MATCH: [A-Za-z]+ ?\", re.match(r\"[A-Za-z]\", source))\n",
    "\n",
    "# 매치된 내용은 grop 메서드로 추출\n",
    "print(re.match(r\"[A-Za-z]+\", source).group())"
   ]
  },
  {
   "cell_type": "code",
   "execution_count": 22,
   "metadata": {},
   "outputs": [
    {
     "name": "stdout",
     "output_type": "stream",
     "text": [
      "<re.Match object; span=(7, 13), match='Python'>\n",
      "<re.Match object; span=(7, 13), match='Python'>\n",
      "['Paint', 'Perl', 'Python']\n",
      "<callable_iterator object at 0x0000021CA0DD5EB8>\n",
      "<re.Match object; span=(0, 5), match='Paint'> Paint\n",
      "<re.Match object; span=(23, 27), match='Perl'> Perl\n",
      "<re.Match object; span=(33, 39), match='Python'> Python\n"
     ]
    }
   ],
   "source": [
    "# search : 문자열 전체에서 패턴 문자열과 일치하는 내용을 확인\n",
    "source = 'Hello, Python'\n",
    "\n",
    "# 내부에서 Python 내용 찾기\n",
    "print(re.search(r'Python', source))\n",
    "\n",
    "# 기본적으로 정규식 패턴은 대소문자를 구분한다\n",
    "print(re.search(r'python', source, re.IGNORECASE)) # 대소문자 구별 무효화\n",
    "\n",
    "source = \"Paint C JavaScript 123 Perl Java Python Ruby\"\n",
    "# p로 시작하고 뒤에 소문자가 붙은 단어 추출\n",
    "\n",
    "words = re.findall(r'\\bp\\w+', source, re.IGNORECASE)\n",
    "print(words)\n",
    "\n",
    "# finditer : iterator 반환\n",
    "it = re.finditer(r'\\bp\\w+', source, re.IGNORECASE)\n",
    "print(it)\n",
    "\n",
    "for x in it:\n",
    "    print(x, x.group())"
   ]
  },
  {
   "cell_type": "code",
   "execution_count": 23,
   "metadata": {},
   "outputs": [
    {
     "name": "stdout",
     "output_type": "stream",
     "text": [
      "['대한민국', '세종대왕', '훈민정음']\n"
     ]
    }
   ],
   "source": [
    "# 한글 정규식 패턴 [ㄱ-힣]\n",
    "source = \"English 대한민국 Japan 세종대왕 China 훈민정음\"\n",
    "p = re.compile(r'[ㄱ-힣]+') # Unicode\n",
    "print(p.findall(source))"
   ]
  },
  {
   "cell_type": "code",
   "execution_count": 32,
   "metadata": {},
   "outputs": [
    {
     "name": "stdout",
     "output_type": "stream",
     "text": [
      "<re.Match object; span=(0, 13), match='010-1234-5678'> 010-1234-5678\n",
      "<re.Match object; span=(0, 13), match='010-1234-5678'> ('010', '1234', '5678')\n",
      "<re.Match object; span=(0, 13), match='010-1234-5678'> ('010', '1234', '5678')\n",
      "<re.Match object; span=(0, 13), match='010-1234-5678'> {'area': '010', 'exchange': '1234', 'number': '5678'}\n"
     ]
    }
   ],
   "source": [
    "# 예제 : 전화번호 매칭\n",
    "# 010-1234-5678\n",
    "tel = re.compile(r'\\d{2,3}-\\d{3,4}-\\d{4}')\n",
    "m = tel.match(\"010-1234-5678\")\n",
    "print(m, m.group())\n",
    "\n",
    "# 매칭된 객체를 그룹화 할 수 있다\n",
    "tel = re.compile(r'(\\d{2,3})-(\\d{3,4})-(\\d{4})')\n",
    "m = tel.match(\"010-1234-5678\")\n",
    "print(m, m.groups())\n",
    "\n",
    "# 그룹화된 매칭 객체에 키를 붙일 수 있다. (?P<key>)\n",
    "tel = re.compile(r'(?P<area>\\d{2,3})-(?P<exchange>\\d{3,4})-(?P<number>\\d{4})')\n",
    "m = tel.match(\"010-1234-5678\")\n",
    "print(m, m.groups())\n",
    "print(m, m.groupdict()) # 키가 부여된 그룹 매칭은 groupdict로 받아올 수 있다."
   ]
  },
  {
   "cell_type": "code",
   "execution_count": 34,
   "metadata": {},
   "outputs": [
    {
     "name": "stdout",
     "output_type": "stream",
     "text": [
      "['skyun.nam@gmail.com', 'hong@hwalbin.org', 'lim@thieves.org', 'dooly@dooly.net']\n"
     ]
    }
   ],
   "source": [
    "# 예제 : 이메일 주소 추출\n",
    "source = \"\"\"\n",
    "예제 주소록\n",
    "이 문자열에서 이메일 주소만 추출해 주세요\n",
    "남승균 skyun.nam@gmail.com\n",
    "홍길동 hong@hwalbin.org\n",
    "임꺽정 lim@thieves.org\n",
    "둘리 dooly@dooly.net\n",
    "\"\"\"\n",
    "# print(source)\n",
    "pattern = r\"\\w+[\\w\\.]*@\\w+[\\w\\.]*\\.[a-z]+\"\n",
    "emails = re.findall(pattern, source)\n",
    "\n",
    "print(emails)"
   ]
  },
  {
   "cell_type": "code",
   "execution_count": 36,
   "metadata": {},
   "outputs": [
    {
     "name": "stdout",
     "output_type": "stream",
     "text": [
      "Pattern Split: ['사과', '오렌지', '바나나', '토마토', '수박']\n",
      "Pattern Sub: 사과, 오렌지, 바나나, 토마토, 수박\n"
     ]
    }
   ],
   "source": [
    "# split과 sub(치환)\n",
    "# str이 가진 split과 replace는 문자열 완전 매칭으로 제한된 기능만 수행\n",
    "source = \"사과 오렌지: 바나나. 토마토|수박\"\n",
    "pattern = r\"[ :|.]+\" # 공백, :, |, . 을 분절 기준 문자로 split\n",
    "print(\"Pattern Split:\", re.split(pattern, source))\n",
    "\n",
    "# source 문자열을 내의 pattern에 매칭 문자열을 , 로 치환\n",
    "print(\"Pattern Sub:\", re.sub(pattern, \", \", source))"
   ]
  },
  {
   "cell_type": "markdown",
   "metadata": {},
   "source": [
    "import re\n",
    "\n",
    "p = re.comile(r'정규표현식')"
   ]
  },
  {
   "cell_type": "markdown",
   "metadata": {},
   "source": [
    "[a-z]+ : 소문자 1개 이상\n",
    "\n",
    "[A-Za-z]+ : 대,소문자 1개 이상\n",
    "[A-Za-z]{3, 5} : 3 글자 이상 5 글자 이하\n",
    "r' ' : 특수 문자 없는 문자열에는 r을 붙인다"
   ]
  },
  {
   "cell_type": "code",
   "execution_count": 7,
   "metadata": {},
   "outputs": [
    {
     "data": {
      "text/plain": [
       "<re.Match object; span=(0, 6), match='python'>"
      ]
     },
     "execution_count": 7,
     "metadata": {},
     "output_type": "execute_result"
    }
   ],
   "source": [
    "p = re.compile(r'[a-z]+') # 패턴 컴파일\n",
    "p.match(\"python\") # 패턴 객체의 메서드 수행"
   ]
  },
  {
   "cell_type": "markdown",
   "metadata": {},
   "source": [
    "메타문자\n",
    ". ^ $ + ? { } [ ] \\ | ( )"
   ]
  },
  {
   "cell_type": "code",
   "execution_count": 4,
   "metadata": {},
   "outputs": [
    {
     "name": "stdout",
     "output_type": "stream",
     "text": [
      "\n",
      "\n",
      "    \n",
      "        Click\n",
      "        Here\n",
      "        \n",
      "        \tTo connect to the most powerful tools in the world.\n",
      "        \n",
      "    \n",
      "\n"
     ]
    }
   ],
   "source": [
    "import re\n",
    "\n",
    "s = \"\"\"\n",
    "<html>\n",
    "    <body style='background-color:#ffff'>\n",
    "        <h4>Click</h4>\n",
    "        <a href='http://www.python.org'>Here</a>\n",
    "        <p>\n",
    "        \tTo connect to the most powerful tools in the world.\n",
    "        </p>\n",
    "    </body>\n",
    "</html>\"\"\"\n",
    "# r = re.compile('\\<.*?\\>')\n",
    "r = re.compile(r\"<[^>]+>\")\n",
    "print(re.sub(r, '', s))"
   ]
  }
 ],
 "metadata": {
  "kernelspec": {
   "display_name": "Python 3",
   "language": "python",
   "name": "python3"
  },
  "language_info": {
   "codemirror_mode": {
    "name": "ipython",
    "version": 3
   },
   "file_extension": ".py",
   "mimetype": "text/x-python",
   "name": "python",
   "nbconvert_exporter": "python",
   "pygments_lexer": "ipython3",
   "version": "3.7.3"
  }
 },
 "nbformat": 4,
 "nbformat_minor": 4
}
