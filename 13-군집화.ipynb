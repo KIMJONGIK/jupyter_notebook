{
 "cells": [
  {
   "cell_type": "code",
   "execution_count": 3,
   "metadata": {},
   "outputs": [
    {
     "data": {
      "image/png": "[encoded data removed]",
      "text/plain": [
       "<Figure size 432x288 with 1 Axes>"
      ]
     },
     "metadata": {
      "needs_background": "light"
     },
     "output_type": "display_data"
    }
   ],
   "source": [
    "# 군집화 : 데이터를 n개의 클러스터로 분할\n",
    "from sklearn.datasets import make_blobs\n",
    "from sklearn.cluster import KMeans\n",
    "\n",
    "# 인위적으로 군집화 데이터 생성\n",
    "X, y = make_blobs(random_state=1, centers = 3) # 3개의 군집으로 데이터 생성\n",
    "\n",
    "# 1차 시각화\n",
    "import matplotlib.pyplot as plt\n",
    "\n",
    "plt.scatter(X[:, 0], X[:, 1])\n",
    "plt.show()"
   ]
  },
  {
   "cell_type": "code",
   "execution_count": 4,
   "metadata": {},
   "outputs": [
    {
     "name": "stdout",
     "output_type": "stream",
     "text": [
      "Targets: [0 1 1 1 2 2 2 1 0 0 1 1 2 0 2 2 2 0 1 1 2 1 2 0 1 2 2 0 0 2 0 0 2 0 1 2 1\n",
      " 1 1 2 2 1 0 1 1 2 0 0 0 0 1 2 2 2 0 2 1 1 0 0 1 2 2 1 1 2 0 2 0 1 1 1 2 0\n",
      " 0 1 2 2 0 1 0 1 1 2 0 0 0 0 1 0 2 0 0 1 1 2 2 0 2 0]\n"
     ]
    }
   ],
   "source": [
    "# target label 확인\n",
    "print('Targets:', y)"
   ]
  },
  {
   "cell_type": "code",
   "execution_count": 15,
   "metadata": {},
   "outputs": [
    {
     "name": "stdout",
     "output_type": "stream",
     "text": [
      "예측된 레이블: [0 2 2 2 1 1 1 2 0 0 2 2 1 0 1 1 1 0 2 2 1 2 1 0 2 1 1 0 0 1 0 0 1 0 2 1 2\n",
      " 2 2 1 1 2 0 2 2 1 0 0 0 0 2 1 1 1 0 1 2 2 0 0 2 1 1 2 2 1 0 1 0 2 2 2 1 0\n",
      " 0 2 1 1 0 2 0 2 2 1 0 0 0 0 2 0 1 0 0 2 2 1 1 0 1 0]\n"
     ]
    }
   ],
   "source": [
    "# kmeans 모델 생성\n",
    "kmeans = KMeans(n_clusters=3) # 3개의 클러스터로 군집화\n",
    "kmeans.fit(X) # 학습\n",
    "# 예측된 클러스터 레이블\n",
    "print(\"예측된 레이블:\", kmeans.labels_)"
   ]
  },
  {
   "cell_type": "code",
   "execution_count": 17,
   "metadata": {},
   "outputs": [
    {
     "data": {
      "text/html": [
       "<div>\n",
       "<style scoped>\n",
       "    .dataframe tbody tr th:only-of-type {\n",
       "        vertical-align: middle;\n",
       "    }\n",
       "\n",
       "    .dataframe tbody tr th {\n",
       "        vertical-align: top;\n",
       "    }\n",
       "\n",
       "    .dataframe thead th {\n",
       "        text-align: right;\n",
       "    }\n",
       "</style>\n",
       "<table border=\"1\" class=\"dataframe\">\n",
       "  <thead>\n",
       "    <tr style=\"text-align: right;\">\n",
       "      <th></th>\n",
       "      <th>Feature 1</th>\n",
       "      <th>Feature 2</th>\n",
       "      <th>cluster</th>\n",
       "    </tr>\n",
       "  </thead>\n",
       "  <tbody>\n",
       "    <tr>\n",
       "      <th>0</th>\n",
       "      <td>-0.794152</td>\n",
       "      <td>2.104951</td>\n",
       "      <td>0</td>\n",
       "    </tr>\n",
       "    <tr>\n",
       "      <th>1</th>\n",
       "      <td>-9.151552</td>\n",
       "      <td>-4.812864</td>\n",
       "      <td>2</td>\n",
       "    </tr>\n",
       "    <tr>\n",
       "      <th>2</th>\n",
       "      <td>-11.441826</td>\n",
       "      <td>-4.457814</td>\n",
       "      <td>2</td>\n",
       "    </tr>\n",
       "    <tr>\n",
       "      <th>3</th>\n",
       "      <td>-9.767618</td>\n",
       "      <td>-3.191337</td>\n",
       "      <td>2</td>\n",
       "    </tr>\n",
       "    <tr>\n",
       "      <th>4</th>\n",
       "      <td>-4.536556</td>\n",
       "      <td>-8.401863</td>\n",
       "      <td>1</td>\n",
       "    </tr>\n",
       "    <tr>\n",
       "      <th>...</th>\n",
       "      <td>...</td>\n",
       "      <td>...</td>\n",
       "      <td>...</td>\n",
       "    </tr>\n",
       "    <tr>\n",
       "      <th>95</th>\n",
       "      <td>-6.026058</td>\n",
       "      <td>-5.966248</td>\n",
       "      <td>1</td>\n",
       "    </tr>\n",
       "    <tr>\n",
       "      <th>96</th>\n",
       "      <td>-7.047473</td>\n",
       "      <td>-9.275247</td>\n",
       "      <td>1</td>\n",
       "    </tr>\n",
       "    <tr>\n",
       "      <th>97</th>\n",
       "      <td>-1.373973</td>\n",
       "      <td>5.291631</td>\n",
       "      <td>0</td>\n",
       "    </tr>\n",
       "    <tr>\n",
       "      <th>98</th>\n",
       "      <td>-6.253931</td>\n",
       "      <td>-7.108786</td>\n",
       "      <td>1</td>\n",
       "    </tr>\n",
       "    <tr>\n",
       "      <th>99</th>\n",
       "      <td>0.085252</td>\n",
       "      <td>3.645283</td>\n",
       "      <td>0</td>\n",
       "    </tr>\n",
       "  </tbody>\n",
       "</table>\n",
       "<p>100 rows × 3 columns</p>\n",
       "</div>"
      ],
      "text/plain": [
       "    Feature 1  Feature 2  cluster\n",
       "0   -0.794152   2.104951        0\n",
       "1   -9.151552  -4.812864        2\n",
       "2  -11.441826  -4.457814        2\n",
       "3   -9.767618  -3.191337        2\n",
       "4   -4.536556  -8.401863        1\n",
       "..        ...        ...      ...\n",
       "95  -6.026058  -5.966248        1\n",
       "96  -7.047473  -9.275247        1\n",
       "97  -1.373973   5.291631        0\n",
       "98  -6.253931  -7.108786        1\n",
       "99   0.085252   3.645283        0\n",
       "\n",
       "[100 rows x 3 columns]"
      ]
     },
     "execution_count": 17,
     "metadata": {},
     "output_type": "execute_result"
    }
   ],
   "source": [
    "# 데이터 프레임 생성\n",
    "import pandas as pd\n",
    "df =  pd.DataFrame({\n",
    "    \"Feature 1\": X[:, 0],\n",
    "    \"Feature 2\": X[:, 1],\n",
    "    'cluster': kmeans.labels_\n",
    "})\n",
    "\n",
    "df"
   ]
  },
  {
   "cell_type": "code",
   "execution_count": 26,
   "metadata": {},
   "outputs": [
    {
     "data": {
      "image/png": "[encoded data removed]",
      "text/plain": [
       "<Figure size 432x288 with 1 Axes>"
      ]
     },
     "metadata": {
      "needs_background": "light"
     },
     "output_type": "display_data"
    }
   ],
   "source": [
    "# 시각화\n",
    "# 그룹별 시각화\n",
    "for cluster in sorted(df['cluster'].unique()):\n",
    "#     print(cluster)\n",
    "    data = df[df['cluster'] == cluster] # 필터링\n",
    "    plt.scatter(data['Feature 1'],\n",
    "                data['Feature 2'], label=cluster)\n",
    "\n",
    "# 클러스터의 중심 시각화\n",
    "# print(kmeans.cluster_centers_)\n",
    "for center in kmeans.cluster_centers_:\n",
    "    plt.plot(center[0], center[1],\n",
    "            marker='^', c='red')\n",
    "plt.legend()\n",
    "plt.show()\n",
    "    "
   ]
  },
  {
   "cell_type": "code",
   "execution_count": 40,
   "metadata": {},
   "outputs": [
    {
     "name": "stdout",
     "output_type": "stream",
     "text": [
      "Shape of data: (150, 4)\n",
      "['sepal length (cm)', 'sepal width (cm)', 'petal length (cm)', 'petal width (cm)']\n",
      "['setosa' 'versicolor' 'virginica']\n",
      "예측된 클러스터: [[6.85       3.07368421 5.74210526 2.07105263]\n",
      " [5.006      3.428      1.462      0.246     ]\n",
      " [5.9016129  2.7483871  4.39354839 1.43387097]]\n",
      "label: 0\n",
      "label: 1\n",
      "label: 2\n"
     ]
    },
    {
     "data": {
      "image/png": "[encoded data removed]",
      "text/plain": [
       "<Figure size 432x288 with 1 Axes>"
      ]
     },
     "metadata": {
      "needs_background": "light"
     },
     "output_type": "display_data"
    }
   ],
   "source": [
    "# iris 데이터셋을 이용한 군집화 연습\n",
    "from sklearn.datasets import load_iris\n",
    "\n",
    "iris = load_iris()\n",
    "print('Shape of data:', iris.data.shape)\n",
    "print(iris.feature_names) # 0, 1 feature를 이용하여 군집화\n",
    "print(iris.target_names) # n_cluster = 3\n",
    "\n",
    "# 알고리즘 생성\n",
    "model = KMeans(n_clusters=3) # 중심 3개\n",
    "model.fit(iris.data) # 학습\n",
    "print('예측된 클러스터:', model.cluster_centers_)\n",
    "\n",
    "import numpy as np\n",
    "# 데이터 프레임 생성\n",
    "cluster_df = pd.DataFrame(\n",
    "    data = np.c_[iris.data, model.labels_],\n",
    "    columns = iris.feature_names + ['label']\n",
    ")\n",
    "\n",
    "cluster_df.label = cluster_df.label.astype('uint8') # 정수형으로 변환\n",
    "cluster_df\n",
    "\n",
    "# sepal length vs sepal width로 시각화\n",
    "for label in sorted(cluster_df.label.unique()):\n",
    "    print('label:', label)\n",
    "    \n",
    "    # 필터링\n",
    "    cluster_data = cluster_df[cluster_df.label == label]\n",
    "    plt.scatter(cluster_data.iloc[:, 0], # 0번 변수\n",
    "                cluster_data.iloc[:, 1], # 1번 변수\n",
    "                label=label)\n",
    "plt.xlabel('sepal length')\n",
    "plt.ylabel('sepal width')\n",
    "plt.legend()\n",
    "plt.show()    "
   ]
  }
 ],
 "metadata": {
  "kernelspec": {
   "display_name": "Python 3",
   "language": "python",
   "name": "python3"
  },
  "language_info": {
   "codemirror_mode": {
    "name": "ipython",
    "version": 3
   },
   "file_extension": ".py",
   "mimetype": "text/x-python",
   "name": "python",
   "nbconvert_exporter": "python",
   "pygments_lexer": "ipython3",
   "version": "3.7.3"
  }
 },
 "nbformat": 4,
 "nbformat_minor": 4
}
