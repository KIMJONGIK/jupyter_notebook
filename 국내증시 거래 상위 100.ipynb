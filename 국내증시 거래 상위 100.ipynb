{
 "cells": [
  {
   "cell_type": "code",
   "execution_count": 1,
   "metadata": {},
   "outputs": [],
   "source": [
    "from urllib.request import urlopen\n",
    "from bs4 import BeautifulSoup\n",
    "import os\n",
    "import re # 정규 표현식\n",
    "from urllib.request import urlretrieve\n",
    "import numpy as np"
   ]
  },
  {
   "cell_type": "code",
   "execution_count": 2,
   "metadata": {},
   "outputs": [],
   "source": [
    "req = urlopen(\"https://finance.naver.com/sise/sise_quant.nhn\")\n",
    "html_str = req.read().decode('cp949')\n",
    "soup = BeautifulSoup(html_str, \"html.parser\")\n",
    "finance = soup.select(\"#contentarea td\")"
   ]
  },
  {
   "cell_type": "code",
   "execution_count": 3,
   "metadata": {
    "scrolled": true
   },
   "outputs": [],
   "source": [
    "from bs4.element import Tag\n",
    "\n",
    "stock = soup.select(\"#contentarea\")[0]\n",
    "table = stock.select(\".type_2 > tr\")\n",
    "\n",
    "stock_list = []\n",
    "for item in table:\n",
    "    tds = item.children\n",
    "#     print([ td.text.strip() for td in tds if isinstance(td, Tag)])\n",
    "    a= [ td.text.strip() for td in tds if isinstance(td, Tag)]\n",
    "    a = list(filter(bool, a))\n",
    "    for item2 in a:\n",
    "        stock_list.append(item2)\n",
    "    \n",
    "\n"
   ]
  },
  {
   "cell_type": "code",
   "execution_count": 4,
   "metadata": {
    "scrolled": true
   },
   "outputs": [],
   "source": [
    "# stock_list"
   ]
  },
  {
   "cell_type": "code",
   "execution_count": 5,
   "metadata": {
    "scrolled": false
   },
   "outputs": [
    {
     "name": "stdout",
     "output_type": "stream",
     "text": [
      "종목명 \t\t 현재가\n",
      "KODEX 200선물인버스2X \t\t 4,070\n",
      "신성이엔지 \t\t 2,505\n",
      "KODEX 코스닥150선물인버스 \t\t 5,195\n",
      "써니전자 \t\t 5,210\n",
      "KODEX 레버리지 \t\t 15,140\n",
      "부산주공 \t\t 754\n",
      "KODEX 인버스 \t\t 5,400\n",
      "삼성 레버리지 WTI원유 선물 ETN \t\t 330\n",
      "신풍제지 \t\t 2,945\n",
      "이수화학 \t\t 11,250\n",
      "KODEX 코스닥150 레버리지 \t\t 13,000\n",
      "이아이디 \t\t 278\n",
      "신한 레버리지 WTI원유 선물 ETN(H) \t\t 275\n",
      "대우부품 \t\t 3,025\n",
      "삼성전자 \t\t 59,300\n",
      "콤텍시스템 \t\t 1,725\n",
      "진원생명과학 \t\t 31,400\n",
      "보락 \t\t 2,530\n",
      "광동제약 \t\t 10,050\n",
      "명문제약 \t\t 7,390\n",
      "유니온머티리얼 \t\t 4,315\n",
      "팬오션 \t\t 3,920\n",
      "한화솔루션 \t\t 44,050\n",
      "지엠비코리아 \t\t 8,570\n",
      "세우글로벌 \t\t 3,485\n",
      "한창 \t\t 1,160\n",
      "영화금속 \t\t 1,675\n",
      "두산퓨얼셀 \t\t 39,550\n",
      "인지컨트롤스 \t\t 13,650\n",
      "비비안 \t\t 3,725\n",
      "모토닉 \t\t 13,400\n",
      "TCC스틸 \t\t 4,135\n",
      "YG PLUS \t\t 6,810\n",
      "현대약품 \t\t 6,450\n",
      "TBH글로벌 \t\t 2,140\n",
      "KEC \t\t 1,305\n",
      "쎌마테라퓨틱스 \t\t 8,830\n",
      "동양물산 \t\t 1,415\n",
      "아시아나항공 \t\t 4,280\n",
      "대창 \t\t 1,120\n",
      "태원물산 \t\t 4,630\n",
      "KODEX 200 \t\t 31,555\n",
      "두산인프라코어 \t\t 8,650\n",
      "신풍제약 \t\t 139,500\n",
      "금호에이치티 \t\t 3,950\n",
      "KODEX 코스닥 150 \t\t 13,365\n",
      "에이프로젠제약 \t\t 1,335\n",
      "유엔젤 \t\t 4,585\n",
      "이연제약 \t\t 23,250\n",
      "오리엔트바이오 \t\t 1,665\n",
      "영진약품 \t\t 8,300\n",
      "TIGER KRX BBIG K-뉴딜 \t\t 10,250\n",
      "미래에셋 레버리지 원유선물혼합 ETN(H) \t\t 1,870\n",
      "TIGER 200선물인버스2X \t\t 4,195\n",
      "신성통상 \t\t 1,710\n",
      "KODEX WTI원유선물(H) \t\t 6,175\n",
      "한솔홈데코 \t\t 1,475\n",
      "기아차 \t\t 50,100\n",
      "디피씨 \t\t 14,300\n",
      "대한전선 \t\t 804\n",
      "삼성 인버스 2X WTI원유 선물 ETN \t\t 2,130\n",
      "삼부토건 \t\t 1,945\n",
      "한창제지 \t\t 2,340\n",
      "우리들휴브레인 \t\t 4,500\n",
      "에이프로젠 KIC \t\t 1,860\n",
      "마니커 \t\t 685\n",
      "우리들제약 \t\t 15,850\n",
      "KR모터스 \t\t 833\n",
      "엔케이 \t\t 1,115\n",
      "드림텍 \t\t 16,000\n",
      "SK증권 \t\t 713\n",
      "우진 \t\t 3,865\n",
      "대한항공 \t\t 19,650\n",
      "HMM \t\t 7,330\n",
      "두산중공업 \t\t 13,700\n",
      "SK하이닉스 \t\t 82,900\n",
      "백광산업 \t\t 3,590\n",
      "남선알미늄 \t\t 5,140\n",
      "KBSTAR 단기통안채 \t\t 104,040\n",
      "삼성중공업 \t\t 5,250\n",
      "LG디스플레이 \t\t 15,100\n",
      "서울식품 \t\t 156\n",
      "TIGER 코스닥150선물인버스 \t\t 5,285\n",
      "KOSEF 단기자금 \t\t 101,790\n",
      "현대차 \t\t 182,000\n",
      "하나금융지주 \t\t 29,450\n",
      "보해양조 \t\t 890\n",
      "한국전력 \t\t 20,350\n",
      "알루코 \t\t 4,085\n",
      "후성 \t\t 9,990\n",
      "엘브이엠씨홀딩스 \t\t 3,785\n",
      "한화생명 \t\t 1,560\n",
      "TIGER 200선물레버리지 \t\t 11,375\n",
      "아남전자 \t\t 1,890\n",
      "대우건설 \t\t 2,895\n",
      "파미셀 \t\t 19,200\n",
      "미래에셋대우 \t\t 8,340\n",
      "쌍방울 \t\t 650\n",
      "TIGER 200 \t\t 31,560\n",
      "세진중공업 \t\t 8,970\n"
     ]
    }
   ],
   "source": [
    "stock_chart = np.array(stock_list)\n",
    "stock_chart = stock_chart.reshape(-1, 12)\n",
    "for i in range(0, 101):\n",
    "    print(stock_chart[i, 1],'\\t\\t', stock_chart[i, 2])"
   ]
  },
  {
   "cell_type": "code",
   "execution_count": 6,
   "metadata": {},
   "outputs": [
    {
     "data": {
      "text/plain": [
       "array([['N', '종목명', '현재가', ..., '시가총액', 'PER', 'ROE'],\n",
       "       ['1', 'KODEX 200선물인버스2X', '4,070', ..., '22,536', 'N/A', 'N/A'],\n",
       "       ['2', '신성이엔지', '2,505', ..., '4,801', '67.70', '1.77'],\n",
       "       ...,\n",
       "       ['98', '쌍방울', '650', ..., '1,556', '-2.09', '-19.68'],\n",
       "       ['99', 'TIGER 200', '31,560', ..., '24,112', 'N/A', 'N/A'],\n",
       "       ['100', '세진중공업', '8,970', ..., '3,442', '-50.68', '1.52']],\n",
       "      dtype='<U23')"
      ]
     },
     "execution_count": 6,
     "metadata": {},
     "output_type": "execute_result"
    }
   ],
   "source": [
    "stock_chart"
   ]
  }
 ],
 "metadata": {
  "kernelspec": {
   "display_name": "Python 3",
   "language": "python",
   "name": "python3"
  },
  "language_info": {
   "codemirror_mode": {
    "name": "ipython",
    "version": 3
   },
   "file_extension": ".py",
   "mimetype": "text/x-python",
   "name": "python",
   "nbconvert_exporter": "python",
   "pygments_lexer": "ipython3",
   "version": "3.7.3"
  }
 },
 "nbformat": 4,
 "nbformat_minor": 4
}
