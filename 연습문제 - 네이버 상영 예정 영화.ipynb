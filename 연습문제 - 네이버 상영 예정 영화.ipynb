{
 "cells": [
  {
   "cell_type": "code",
   "execution_count": 5,
   "metadata": {},
   "outputs": [],
   "source": [
    "from urllib.request import urlopen\n",
    "from bs4 import BeautifulSoup\n",
    "import os\n",
    "import re # 정규 표현식\n",
    "from urllib.request import urlretrieve"
   ]
  },
  {
   "cell_type": "code",
   "execution_count": 4,
   "metadata": {},
   "outputs": [
    {
     "name": "stdout",
     "output_type": "stream",
     "text": [
      "네이버 영화 순위\n",
      "1위 - 언힌지드 : https://movie.naver.com/movie/bi/mi/basic.nhn?code=195430\n",
      "2위 - 애프터: 그 후 : https://movie.naver.com/movie/bi/mi/basic.nhn?code=195442\n",
      "3위 - 밥정 : https://movie.naver.com/movie/bi/mi/basic.nhn?code=186114\n",
      "4위 - 트롤킹 : https://movie.naver.com/movie/bi/mi/basic.nhn?code=195663\n",
      "5위 - 트라이얼 오브 더 시카고 7 : https://movie.naver.com/movie/bi/mi/basic.nhn?code=192624\n",
      "6위 - 피원에이치 : 새로운 세계의 시작 : https://movie.naver.com/movie/bi/mi/basic.nhn?code=196855\n",
      "7위 - 마샤와 곰: 최고 중에 최고 : https://movie.naver.com/movie/bi/mi/basic.nhn?code=191433\n",
      "8위 - 예티: 신비한 동물 탐험대 : https://movie.naver.com/movie/bi/mi/basic.nhn?code=149121\n",
      "9위 - 부활: 그 증거 : https://movie.naver.com/movie/bi/mi/basic.nhn?code=194334\n",
      "10위 - 어디갔어, 버나뎃 : https://movie.naver.com/movie/bi/mi/basic.nhn?code=168012\n",
      "11위 - 스윈들러 : https://movie.naver.com/movie/bi/mi/basic.nhn?code=181705\n",
      "12위 - 뉴클리어: 원전 2020 : https://movie.naver.com/movie/bi/mi/basic.nhn?code=190825\n",
      "13위 - 나의 이름 : https://movie.naver.com/movie/bi/mi/basic.nhn?code=193116\n",
      "14위 - 안녕까지 30분 : https://movie.naver.com/movie/bi/mi/basic.nhn?code=191578\n",
      "15위 - 폰조 : https://movie.naver.com/movie/bi/mi/basic.nhn?code=174082\n",
      "16위 - 프록시마 프로젝트 : https://movie.naver.com/movie/bi/mi/basic.nhn?code=188795\n",
      "17위 - 그리드 : https://movie.naver.com/movie/bi/mi/basic.nhn?code=188992\n",
      "18위 - 극장판 요괴워치: 포에버 프렌즈 : https://movie.naver.com/movie/bi/mi/basic.nhn?code=181406\n",
      "19위 - 남과 여: 여전히 찬란한 : https://movie.naver.com/movie/bi/mi/basic.nhn?code=185287\n",
      "20위 - 돌멩이 : https://movie.naver.com/movie/bi/mi/basic.nhn?code=167421\n",
      "21위 - 소리도 없이 : https://movie.naver.com/movie/bi/mi/basic.nhn?code=187893\n",
      "22위 - 알피니스트 - 어느 카메라맨의 고백 : https://movie.naver.com/movie/bi/mi/basic.nhn?code=142265\n",
      "23위 - 에브리타임 아이 다이 : https://movie.naver.com/movie/bi/mi/basic.nhn?code=182832\n",
      "24위 - 테슬라 : https://movie.naver.com/movie/bi/mi/basic.nhn?code=191919\n",
      "25위 - 베이비티스 : https://movie.naver.com/movie/bi/mi/basic.nhn?code=188047\n",
      "26위 - 내 사랑 찾기 : https://movie.naver.com/movie/bi/mi/basic.nhn?code=194399\n",
      "27위 - 부니베어: 원시시대 대모험 : https://movie.naver.com/movie/bi/mi/basic.nhn?code=191031\n",
      "28위 - 종이꽃 : https://movie.naver.com/movie/bi/mi/basic.nhn?code=189625\n",
      "29위 - 태양의 소녀들 : https://movie.naver.com/movie/bi/mi/basic.nhn?code=174829\n",
      "30위 - 담쟁이 : https://movie.naver.com/movie/bi/mi/basic.nhn?code=194086\n",
      "31위 - 신황제를 위하여 : https://movie.naver.com/movie/bi/mi/basic.nhn?code=197315\n",
      "32위 - 황무지 5월의 고해 : https://movie.naver.com/movie/bi/mi/basic.nhn?code=195670\n",
      "33위 - 증발 : https://movie.naver.com/movie/bi/mi/basic.nhn?code=188834\n",
      "34위 - 글로리아를 위하여 : https://movie.naver.com/movie/bi/mi/basic.nhn?code=188053\n",
      "35위 - 꿀벌과 천둥 : https://movie.naver.com/movie/bi/mi/basic.nhn?code=189138\n",
      "36위 - 마이 리틀 포니 : 레인보우 로드 트립 : https://movie.naver.com/movie/bi/mi/basic.nhn?code=191236\n",
      "37위 - 마틴 에덴 : https://movie.naver.com/movie/bi/mi/basic.nhn?code=159286\n",
      "38위 - 웰컴 투 X-월드 : https://movie.naver.com/movie/bi/mi/basic.nhn?code=189568\n",
      "39위 - 나인스 게이트 : https://movie.naver.com/movie/bi/mi/basic.nhn?code=195607\n",
      "40위 - 디어 마이 지니어스 : https://movie.naver.com/movie/bi/mi/basic.nhn?code=179520\n",
      "41위 - 미스터트롯: 더 무비 : https://movie.naver.com/movie/bi/mi/basic.nhn?code=197304\n",
      "42위 - 삼진그룹 영어토익반 : https://movie.naver.com/movie/bi/mi/basic.nhn?code=189141\n",
      "43위 - 앙상블 : https://movie.naver.com/movie/bi/mi/basic.nhn?code=185378\n",
      "44위 - 젊은이의 양지 : https://movie.naver.com/movie/bi/mi/basic.nhn?code=189628\n",
      "45위 - 트레저 헌터 플린 : https://movie.naver.com/movie/bi/mi/basic.nhn?code=172977\n",
      "46위 - 파티마의 기적 : https://movie.naver.com/movie/bi/mi/basic.nhn?code=193195\n",
      "47위 - 렛 힘 고 : https://movie.naver.com/movie/bi/mi/basic.nhn?code=194324\n",
      "48위 - 페뷸러스 : https://movie.naver.com/movie/bi/mi/basic.nhn?code=189609\n",
      "49위 - 걸후드 : https://movie.naver.com/movie/bi/mi/basic.nhn?code=129860\n",
      "50위 - 내가 죽던 날 : https://movie.naver.com/movie/bi/mi/basic.nhn?code=190381\n",
      "51위 - 안티고네 : https://movie.naver.com/movie/bi/mi/basic.nhn?code=188431\n",
      "52위 - 극장판 바다 탐험대 옥토넛 : 대산호초 보호작전 : https://movie.naver.com/movie/bi/mi/basic.nhn?code=197656\n",
      "53위 - 극장판 바이올렛 에버가든 : https://movie.naver.com/movie/bi/mi/basic.nhn?code=196843\n",
      "54위 - 도굴 : https://movie.naver.com/movie/bi/mi/basic.nhn?code=193194\n",
      "55위 - 마음에 부는 바람 : https://movie.naver.com/movie/bi/mi/basic.nhn?code=159684\n",
      "56위 - 마치다군의 세계 : https://movie.naver.com/movie/bi/mi/basic.nhn?code=184349\n",
      "57위 - 봉쇄수도원 카르투시오 : https://movie.naver.com/movie/bi/mi/basic.nhn?code=195659\n",
      "58위 - 워 위드 그랜파 : https://movie.naver.com/movie/bi/mi/basic.nhn?code=154286\n",
      "59위 - 승리호 : https://movie.naver.com/movie/bi/mi/basic.nhn?code=186342\n",
      "60위 - 원더 우먼 1984 : https://movie.naver.com/movie/bi/mi/basic.nhn?code=163834\n",
      "61위 - 웨스트 사이드 스토리 : https://movie.naver.com/movie/bi/mi/basic.nhn?code=180429\n",
      "62위 - 인생은 아름다워 : https://movie.naver.com/movie/bi/mi/basic.nhn?code=187821\n",
      "63위 - 조제, 호랑이 그리고 물고기들 : https://movie.naver.com/movie/bi/mi/basic.nhn?code=195970\n",
      "64위 - 모비우스 : https://movie.naver.com/movie/bi/mi/basic.nhn?code=190695\n",
      "65위 - 스톰 보이 : https://movie.naver.com/movie/bi/mi/basic.nhn?code=183115\n",
      "66위 - 007 노 타임 투 다이 : https://movie.naver.com/movie/bi/mi/basic.nhn?code=99702\n",
      "67위 - 분노의 질주: 더 얼티메이트 : https://movie.naver.com/movie/bi/mi/basic.nhn?code=189150\n",
      "68위 - 쥬라기 월드: 도미니언 : https://movie.naver.com/movie/bi/mi/basic.nhn?code=191646\n"
     ]
    }
   ],
   "source": [
    "req = urlopen(\"https://movie.naver.com/movie/running/premovie.nhn\")\n",
    "html_str = req.read().decode('utf-8')\n",
    "soup = BeautifulSoup(html_str, \"html.parser\")\n",
    "pre_movies = soup.select(\"ul.lst_detail_t1 > li\")\n",
    "\n",
    "movie_list = []\n",
    "for movie in pre_movies: # movie는 li 태그\n",
    "    titles = movie.select(\"dl.lst_dsc > .tit > a\")[0]\n",
    "    \n",
    "    info = {\"title\": titles.text.strip(), \"link\":titles['href']}\n",
    "    movie_list.append(info)\n",
    "print(\"네이버 영화 순위\")\n",
    "\n",
    "for rank, info in enumerate(movie_list):\n",
    "    print(\"{}위 - {} : https://movie.naver.com{}\".format(rank+1, info['title'], info['link']))"
   ]
  },
  {
   "cell_type": "code",
   "execution_count": 7,
   "metadata": {},
   "outputs": [
    {
     "name": "stdout",
     "output_type": "stream",
     "text": [
      "....................................................................Download Complete!\n"
     ]
    }
   ],
   "source": [
    "if not os.path.exists(\"d:/data-science/crawl2\"): # 디렉터리 없으면\n",
    "    os.makedirs(\"d:/data-science/crawl2\") # 생성\n",
    "\n",
    "for movie in pre_movies:\n",
    "    img_tag = movie.select(\"img\")[0]\n",
    "    title = img_tag['alt']\n",
    "    title = re.sub(r\"[\\/:*?<>|.]\", \"- \", title.strip())\n",
    "    src = img_tag['src'] # 이미지 주소\n",
    "    target = \"d:/data-science/crawl2/{}.jpg\".format(title)\n",
    "    urlretrieve(src, target)\n",
    "    print(\".\", end=\"\")\n",
    "else:\n",
    "    print(\"Download Complete!\")"
   ]
  }
 ],
 "metadata": {
  "kernelspec": {
   "display_name": "Python 3",
   "language": "python",
   "name": "python3"
  },
  "language_info": {
   "codemirror_mode": {
    "name": "ipython",
    "version": 3
   },
   "file_extension": ".py",
   "mimetype": "text/x-python",
   "name": "python",
   "nbconvert_exporter": "python",
   "pygments_lexer": "ipython3",
   "version": "3.7.3"
  }
 },
 "nbformat": 4,
 "nbformat_minor": 4
}
