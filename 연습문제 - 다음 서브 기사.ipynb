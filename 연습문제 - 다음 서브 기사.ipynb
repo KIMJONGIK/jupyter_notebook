{
 "cells": [
  {
   "cell_type": "code",
   "execution_count": 1,
   "metadata": {},
   "outputs": [],
   "source": [
    "from urllib.request import urlopen\n",
    "from bs4 import BeautifulSoup"
   ]
  },
  {
   "cell_type": "code",
   "execution_count": 3,
   "metadata": {},
   "outputs": [
    {
     "name": "stdout",
     "output_type": "stream",
     "text": [
      "응답 코드: 200\n",
      "SUCCESS\n"
     ]
    }
   ],
   "source": [
    "req = urlopen(\"https://news.daum.net/\")\n",
    "print(\"응답 코드:\", req.getcode())\n",
    "\n",
    "if req.getcode() == 200:\n",
    "    # html 받아오기\n",
    "    html = req.read()\n",
    "    html = html.decode(\"utf-8\")\n",
    "    print(\"SUCCESS\")\n",
    "else:\n",
    "    print(\"HTTP-ERROR\")"
   ]
  },
  {
   "cell_type": "code",
   "execution_count": 4,
   "metadata": {},
   "outputs": [
    {
     "name": "stdout",
     "output_type": "stream",
     "text": [
      "문서 제목: 홈 | 다음뉴스\n"
     ]
    }
   ],
   "source": [
    "soup = BeautifulSoup(html, \"html.parser\")\n",
    "print(\"문서 제목:\", soup.title.text)"
   ]
  },
  {
   "cell_type": "code",
   "execution_count": 6,
   "metadata": {},
   "outputs": [],
   "source": [
    "articles = soup.select(\"#cSub\")[0] #id= cSub\n",
    "links = articles.select(\"a.link_txt\")"
   ]
  },
  {
   "cell_type": "code",
   "execution_count": 8,
   "metadata": {},
   "outputs": [
    {
     "name": "stdout",
     "output_type": "stream",
     "text": [
      "다음 뉴스 서브 기사:\n",
      "\"막차 타자\" 빅히트 공모청약 경쟁률 540대 1..오후 2시 증거금 44조 - https://news.v.daum.net/v/20201006141241019\n",
      "빅히트 공모청약 마지막날 '후끈'..낮 12시 증거금 31조 몰려 - https://news.v.daum.net/v/20201006121540694\n",
      "'BTS' 빅히트, 예상 밖 부진 '뒷심' 발휘할까..오늘 일반청약 마감 - https://news.v.daum.net/v/20201006073101116\n",
      "이철 \"이동재 편지에 공포감 느껴..한동훈 이름 충격\" - https://news.v.daum.net/v/20201006141150983\n",
      "이철 \"이동재 편지에 공포 느껴\"..'검·언유착' 재판 증언 - https://news.v.daum.net/v/20201006122535910\n",
      "이철 전 VIK 대표 \"기자 편지 보고 검사와의 관련성 확신\" - https://news.v.daum.net/v/20201006115512971\n",
      "\"유령도시 된 백악관..북한이 더 안전\"..트럼프에 관리·기자까지 코로나19 감염 - https://news.v.daum.net/v/20201006140901864\n",
      "트럼프 이어 관리·기자들도 줄줄이 감염..\"백악관은 유령도시\" - https://news.v.daum.net/v/20201006140210595\n",
      "\"유령도시 된 백악관\"..트럼프 이어 관리·기자까지 전염 - https://news.v.daum.net/v/20201006120248337\n",
      "북 \"연말까지 80일 전투 벌일 것\"..리병철·박정천 '군 원수' 칭호 - https://news.v.daum.net/v/20201006102516251\n",
      "김정은, 당 정치국 회의서 \"연말까지 80일 전투 전개\" - https://news.v.daum.net/v/20201006140037534\n",
      "김정은, 연말까지 '80일 전투' 앞세우고 내치 집중 - https://news.v.daum.net/v/20201006071405918\n"
     ]
    }
   ],
   "source": [
    "news_list = []\n",
    "for link in links:\n",
    "#     print(link)\n",
    "    news = {\n",
    "        \"link\": link['href'], # 속성에 접근\n",
    "        \"title\": link.text.strip()\n",
    "    }\n",
    "    news_list.append(news)\n",
    "    \n",
    "# print(news_list)\n",
    "print(\"다음 뉴스 서브 기사:\")\n",
    "for news in news_list:\n",
    "    print(\"{} - {}\".format(news.get('title'), news.get('link')))"
   ]
  }
 ],
 "metadata": {
  "kernelspec": {
   "display_name": "Python 3",
   "language": "python",
   "name": "python3"
  },
  "language_info": {
   "codemirror_mode": {
    "name": "ipython",
    "version": 3
   },
   "file_extension": ".py",
   "mimetype": "text/x-python",
   "name": "python",
   "nbconvert_exporter": "python",
   "pygments_lexer": "ipython3",
   "version": "3.7.3"
  }
 },
 "nbformat": 4,
 "nbformat_minor": 4
}
